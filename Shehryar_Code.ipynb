{
  "nbformat": 4,
  "nbformat_minor": 0,
  "metadata": {
    "colab": {
      "provenance": []
    },
    "kernelspec": {
      "name": "python3",
      "display_name": "Python 3"
    },
    "language_info": {
      "name": "python"
    }
  },
  "cells": [
    {
      "cell_type": "code",
      "source": [
        "from google.colab import drive\n",
        "drive.mount('/content/drive')"
      ],
      "metadata": {
        "colab": {
          "base_uri": "https://localhost:8080/"
        },
        "id": "1yDywcG1pm1N",
        "outputId": "940f8739-a172-419c-9117-3c4169e245b9"
      },
      "execution_count": 2,
      "outputs": [
        {
          "output_type": "stream",
          "name": "stdout",
          "text": [
            "Mounted at /content/drive\n"
          ]
        }
      ]
    },
    {
      "cell_type": "markdown",
      "source": [
        "Load by manual use this code"
      ],
      "metadata": {
        "id": "5Jp0Dy3_cUdY"
      }
    },
    {
      "cell_type": "code",
      "source": [
        "# Importing required libraries\n",
        "import pandas as pd\n",
        "import numpy as np\n",
        "import matplotlib.pyplot as plt\n",
        "import seaborn as sns\n",
        "from sklearn.cluster import KMeans\n",
        "from sklearn.linear_model import LinearRegression\n",
        "from sklearn.model_selection import train_test_split\n",
        "from sklearn.metrics import confusion_matrix, ConfusionMatrixDisplay\n",
        "\n",
        "# Load dataset\n",
        "df = pd.read_csv('/content/drive/MyDrive/Colab Notebooks/zafari /Wholesale customers data.csv')\n",
        "\n",
        "# Add metadata (Name, Student Number, GitHub Link)\n",
        "metadata = {\n",
        "    \"Name\": \"shehryar\",\n",
        "    \"Student Number\": \"23019900\",\n",
        "    \"GitHub Repository\": \"https://github.com/shehryar/ClusteringAndFittingReport\"\n",
        "}\n",
        "print(metadata)\n",
        "\n",
        "# Check dataset\n",
        "print(df.head())\n",
        "\n",
        "# Function 1: Plot Histogram\n",
        "def plot_histogram(data, column, filename):\n",
        "    plt.figure(figsize=(8, 6))\n",
        "    plt.hist(data[column], bins=20, color='skyblue', edgecolor='black')\n",
        "    plt.title(f'Histogram of {column}', fontsize=16)\n",
        "    plt.xlabel(column, fontsize=14)\n",
        "    plt.ylabel('Frequency', fontsize=14)\n",
        "    plt.grid(True)\n",
        "    plt.tight_layout()\n",
        "    plt.savefig(filename)\n",
        "    plt.close()\n",
        "\n",
        "# Function 2: Plot Scatter Plot\n",
        "def plot_scatter(data, x_col, y_col, filename):\n",
        "    plt.figure(figsize=(8, 6))\n",
        "    plt.scatter(data[x_col], data[y_col], c='blue', alpha=0.6)\n",
        "    plt.title(f'Scatter Plot: {x_col} vs {y_col}', fontsize=16)\n",
        "    plt.xlabel(x_col, fontsize=14)\n",
        "    plt.ylabel(y_col, fontsize=14)\n",
        "    plt.grid(True)\n",
        "    plt.tight_layout()\n",
        "    plt.savefig(filename)\n",
        "    plt.close()\n",
        "\n",
        "# Function 3: Plot Heatmap\n",
        "def plot_heatmap(data, filename):\n",
        "    plt.figure(figsize=(10, 8))\n",
        "    sns.heatmap(data.corr(), annot=True, cmap='coolwarm', fmt=\".2f\")\n",
        "    plt.title('Correlation Heatmap', fontsize=16)\n",
        "    plt.tight_layout()\n",
        "    plt.savefig(filename)\n",
        "    plt.close()\n",
        "\n",
        "# Function 4: Plot Elbow Plot for K-Means\n",
        "def plot_elbow(data, max_k, filename):\n",
        "    inertia = []\n",
        "    K_range = range(1, max_k + 1)\n",
        "    for k in K_range:\n",
        "        km = KMeans(n_clusters=k, random_state=42)\n",
        "        km.fit(data)\n",
        "        inertia.append(km.inertia_)\n",
        "    plt.figure(figsize=(8, 6))\n",
        "    plt.plot(K_range, inertia, marker='o', linestyle='--', color='b')\n",
        "    plt.title('Elbow Plot for Optimal K', fontsize=16)\n",
        "    plt.xlabel('Number of Clusters (K)', fontsize=14)\n",
        "    plt.ylabel('Inertia', fontsize=14)\n",
        "    plt.grid(True)\n",
        "    plt.tight_layout()\n",
        "    plt.savefig(filename)\n",
        "    plt.close()\n",
        "\n",
        "# Function 5: Plot Violin Plot\n",
        "def plot_violin(data, column, filename):\n",
        "    plt.figure(figsize=(8, 6))\n",
        "    sns.violinplot(x=data[column], color='skyblue')\n",
        "    plt.title(f'Violin Plot of {column}', fontsize=16)\n",
        "    plt.xlabel(column, fontsize=14)\n",
        "    plt.tight_layout()\n",
        "    plt.savefig(filename)\n",
        "    plt.close()\n",
        "\n",
        "# Generate Plots\n",
        "plot_histogram(df, 'Fresh', 'histogram_fresh.png')\n",
        "plot_scatter(df, 'Fresh', 'Grocery', 'scatter_fresh_grocery.png')\n",
        "plot_heatmap(df, 'heatmap_correlation.png')\n",
        "\n",
        "# Ensure only numerical columns are passed for clustering and elbow plot\n",
        "numerical_data = df.select_dtypes(include=[np.number]).iloc[:, 2:]\n",
        "plot_elbow(numerical_data, max_k=10, filename='elbow_plot.png')\n",
        "\n",
        "# K-Means Clustering\n",
        "kmeans = KMeans(n_clusters=3, random_state=42)\n",
        "df['Cluster'] = kmeans.fit_predict(numerical_data)\n",
        "\n",
        "# Line Fitting\n",
        "X = df[['Fresh']]\n",
        "y = df['Grocery']\n",
        "X_train, X_test, y_train, y_test = train_test_split(X, y, test_size=0.2, random_state=42)\n",
        "regressor = LinearRegression()\n",
        "regressor.fit(X_train, y_train)\n",
        "y_pred = regressor.predict(X_test)\n",
        "\n",
        "# Print regression results\n",
        "print(\"Regression Coefficient:\", regressor.coef_)\n",
        "print(\"Regression Intercept:\", regressor.intercept_)\n",
        "\n",
        "# Generate Violin Plot\n",
        "plot_violin(df, 'Fresh', 'violin_fresh.png')"
      ],
      "metadata": {
        "id": "suVKiorncZu2",
        "colab": {
          "base_uri": "https://localhost:8080/"
        },
        "outputId": "cc708d77-c009-45bf-c710-392674d0b651"
      },
      "execution_count": 14,
      "outputs": [
        {
          "output_type": "stream",
          "name": "stdout",
          "text": [
            "{'Name': 'shehryar', 'Student Number': '23019900', 'GitHub Repository': 'https://github.com/shehryar/ClusteringAndFittingReport'}\n",
            "   Channel  Region  Fresh  Milk  Grocery  Frozen  Detergents_Paper  Delicassen\n",
            "0        2       3  12669  9656     7561     214              2674        1338\n",
            "1        2       3   7057  9810     9568    1762              3293        1776\n",
            "2        2       3   6353  8808     7684    2405              3516        7844\n",
            "3        1       3  13265  1196     4221    6404               507        1788\n",
            "4        2       3  22615  5410     7198    3915              1777        5185\n",
            "Regression Coefficient: [-0.00775116]\n",
            "Regression Intercept: 8255.555429812948\n"
          ]
        }
      ]
    }
  ]
}